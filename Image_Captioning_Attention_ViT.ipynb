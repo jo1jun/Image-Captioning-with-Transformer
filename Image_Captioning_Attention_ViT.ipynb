{
  "nbformat": 4,
  "nbformat_minor": 0,
  "metadata": {
    "colab": {
      "name": "Image_Captioning_Attention_ViT.ipynb",
      "provenance": [],
      "collapsed_sections": [],
      "toc_visible": true,
      "machine_shape": "hm",
      "include_colab_link": true
    },
    "kernelspec": {
      "name": "python3",
      "display_name": "Python 3"
    },
    "language_info": {
      "name": "python"
    },
    "accelerator": "GPU"
  },
  "cells": [
    {
      "cell_type": "markdown",
      "metadata": {
        "id": "view-in-github",
        "colab_type": "text"
      },
      "source": [
        "<a href=\"https://colab.research.google.com/github/jo1jun/Image-Captioning-with-Transformer/blob/main/Image_Captioning_Attention_ViT.ipynb\" target=\"_parent\"><img src=\"https://colab.research.google.com/assets/colab-badge.svg\" alt=\"Open In Colab\"/></a>"
      ]
    },
    {
      "cell_type": "markdown",
      "metadata": {
        "id": "UACotr_VetTr"
      },
      "source": [
        "# Import, device & dtype\n"
      ]
    },
    {
      "cell_type": "code",
      "metadata": {
        "colab": {
          "base_uri": "https://localhost:8080/"
        },
        "id": "pxApyEXgmV2J",
        "outputId": "7bb416b7-9eec-4029-9366-434695258069"
      },
      "source": [
        "import torch\n",
        "import torch.nn as nn\n",
        "import torch.optim as optim\n",
        "import numpy as np\n",
        "import torchvision.datasets as dset\n",
        "import torch.utils.data as data\n",
        "import torchvision.transforms as T\n",
        "from torch.utils.data import DataLoader\n",
        "import matplotlib.pyplot as plt\n",
        "import copy\n",
        "\n",
        "# tensorboard writer\n",
        "from torch.utils.tensorboard import SummaryWriter\n",
        "\n",
        "device = torch.device('cuda' if torch.cuda.is_available() else 'cpu')\n",
        "dtype = torch.long\n",
        "\n",
        "# tensor 연산을 간편하게 하기 위해 einops moudule import.\n",
        "# reference & tutorial : http://einops.rocks/pytorch-examples.html\n",
        "%pip install einops\n",
        "from einops import rearrange, repeat, reduce\n",
        "from einops.layers.torch import Rearrange\n",
        "\n",
        "# WarmupCosineSchedule 이용\n",
        "% pip install pytorch_transformers\n",
        "from pytorch_transformers.optimization import WarmupCosineSchedule\n",
        "\n",
        "from google.colab import drive\n",
        "drive.mount('/content/drive')\n",
        "\n",
        "import os\n",
        "os.chdir('/content/drive/MyDrive/')"
      ],
      "execution_count": 252,
      "outputs": [
        {
          "output_type": "stream",
          "text": [
            "Requirement already satisfied: einops in /usr/local/lib/python3.7/dist-packages (0.3.0)\n",
            "Requirement already satisfied: pytorch_transformers in /usr/local/lib/python3.7/dist-packages (1.2.0)\n",
            "Requirement already satisfied: tqdm in /usr/local/lib/python3.7/dist-packages (from pytorch_transformers) (4.41.1)\n",
            "Requirement already satisfied: requests in /usr/local/lib/python3.7/dist-packages (from pytorch_transformers) (2.23.0)\n",
            "Requirement already satisfied: sentencepiece in /usr/local/lib/python3.7/dist-packages (from pytorch_transformers) (0.1.95)\n",
            "Requirement already satisfied: numpy in /usr/local/lib/python3.7/dist-packages (from pytorch_transformers) (1.19.5)\n",
            "Requirement already satisfied: boto3 in /usr/local/lib/python3.7/dist-packages (from pytorch_transformers) (1.17.84)\n",
            "Requirement already satisfied: sacremoses in /usr/local/lib/python3.7/dist-packages (from pytorch_transformers) (0.0.45)\n",
            "Requirement already satisfied: torch>=1.0.0 in /usr/local/lib/python3.7/dist-packages (from pytorch_transformers) (1.8.1+cu101)\n",
            "Requirement already satisfied: regex in /usr/local/lib/python3.7/dist-packages (from pytorch_transformers) (2019.12.20)\n",
            "Requirement already satisfied: certifi>=2017.4.17 in /usr/local/lib/python3.7/dist-packages (from requests->pytorch_transformers) (2020.12.5)\n",
            "Requirement already satisfied: chardet<4,>=3.0.2 in /usr/local/lib/python3.7/dist-packages (from requests->pytorch_transformers) (3.0.4)\n",
            "Requirement already satisfied: idna<3,>=2.5 in /usr/local/lib/python3.7/dist-packages (from requests->pytorch_transformers) (2.10)\n",
            "Requirement already satisfied: urllib3!=1.25.0,!=1.25.1,<1.26,>=1.21.1 in /usr/local/lib/python3.7/dist-packages (from requests->pytorch_transformers) (1.24.3)\n",
            "Requirement already satisfied: botocore<1.21.0,>=1.20.84 in /usr/local/lib/python3.7/dist-packages (from boto3->pytorch_transformers) (1.20.84)\n",
            "Requirement already satisfied: jmespath<1.0.0,>=0.7.1 in /usr/local/lib/python3.7/dist-packages (from boto3->pytorch_transformers) (0.10.0)\n",
            "Requirement already satisfied: s3transfer<0.5.0,>=0.4.0 in /usr/local/lib/python3.7/dist-packages (from boto3->pytorch_transformers) (0.4.2)\n",
            "Requirement already satisfied: click in /usr/local/lib/python3.7/dist-packages (from sacremoses->pytorch_transformers) (7.1.2)\n",
            "Requirement already satisfied: joblib in /usr/local/lib/python3.7/dist-packages (from sacremoses->pytorch_transformers) (1.0.1)\n",
            "Requirement already satisfied: six in /usr/local/lib/python3.7/dist-packages (from sacremoses->pytorch_transformers) (1.15.0)\n",
            "Requirement already satisfied: typing-extensions in /usr/local/lib/python3.7/dist-packages (from torch>=1.0.0->pytorch_transformers) (3.7.4.3)\n",
            "Requirement already satisfied: python-dateutil<3.0.0,>=2.1 in /usr/local/lib/python3.7/dist-packages (from botocore<1.21.0,>=1.20.84->boto3->pytorch_transformers) (2.8.1)\n",
            "Drive already mounted at /content/drive; to attempt to forcibly remount, call drive.mount(\"/content/drive\", force_remount=True).\n"
          ],
          "name": "stdout"
        }
      ]
    },
    {
      "cell_type": "markdown",
      "metadata": {
        "id": "rOvtGPM1oQo0"
      },
      "source": [
        "# COCO dataset"
      ]
    },
    {
      "cell_type": "code",
      "metadata": {
        "id": "l2jfuLtq8mi3"
      },
      "source": [
        "import collections\n",
        "import random\n",
        "import time\n",
        "import json\n",
        "from PIL import Image\n",
        "\n",
        "with open('./dataset/COCO/annotations/captions_train2014.json', 'r') as f:\n",
        "    annotations = json.load(f)\n",
        "\n",
        "PATH = './dataset/COCO/train2014/'\n",
        "\n",
        "# Group all captions together having the same image ID.\n",
        "image_path_to_caption = collections.defaultdict(list)\n",
        "for val in annotations['annotations']:\n",
        "  caption = val['caption']\n",
        "  image_path = PATH + 'COCO_train2014_' + '%012d.jpg' % (val['image_id'])\n",
        "  image_path_to_caption[image_path].append(caption)"
      ],
      "execution_count": 253,
      "outputs": []
    },
    {
      "cell_type": "code",
      "metadata": {
        "colab": {
          "base_uri": "https://localhost:8080/"
        },
        "id": "mk0q7Pmg-rcr",
        "outputId": "c16db9fe-1107-43e1-fd95-2f398343c904"
      },
      "source": [
        "image_paths = list(image_path_to_caption.keys())\n",
        "random.shuffle(image_paths)\n",
        "\n",
        "train_image_paths = image_paths\n",
        "print(len(train_image_paths))"
      ],
      "execution_count": 254,
      "outputs": [
        {
          "output_type": "stream",
          "text": [
            "82783\n"
          ],
          "name": "stdout"
        }
      ]
    },
    {
      "cell_type": "code",
      "metadata": {
        "id": "gHM9dKxv-w7W"
      },
      "source": [
        "train_captions = []\n",
        "img_name_vector = []\n",
        "\n",
        "for image_path in train_image_paths:\n",
        "  caption_list = image_path_to_caption[image_path]\n",
        "  train_captions.extend(caption_list)\n",
        "  img_name_vector.extend([image_path] * len(caption_list))"
      ],
      "execution_count": 255,
      "outputs": []
    },
    {
      "cell_type": "code",
      "metadata": {
        "colab": {
          "base_uri": "https://localhost:8080/"
        },
        "id": "c9-iYqHj_M3d",
        "outputId": "14bd99ea-18e1-49da-9b8b-7428c53192b0"
      },
      "source": [
        "print(len(train_captions))\n",
        "print(len(img_name_vector))"
      ],
      "execution_count": 256,
      "outputs": [
        {
          "output_type": "stream",
          "text": [
            "414113\n",
            "414113\n"
          ],
          "name": "stdout"
        }
      ]
    },
    {
      "cell_type": "markdown",
      "metadata": {
        "id": "RVooSBatoVk7"
      },
      "source": [
        "# Caption Preprocessing"
      ]
    },
    {
      "cell_type": "code",
      "metadata": {
        "id": "iNWuFF944uAe"
      },
      "source": [
        "class Vocabulary(object):\n",
        "    \"\"\"Simple vocabulary wrapper.\"\"\"\n",
        "    def __init__(self):\n",
        "        self.word2idx = {}\n",
        "        self.idx2word = {}\n",
        "        self.idx = 0\n",
        "\n",
        "    def add_word(self, word):\n",
        "        if not word in self.word2idx:\n",
        "            self.word2idx[word] = self.idx\n",
        "            self.idx2word[self.idx] = word\n",
        "            self.idx += 1\n",
        "\n",
        "    def __call__(self, word):\n",
        "        if not word in self.word2idx:\n",
        "            return self.word2idx['<unk>']\n",
        "        return self.word2idx[word]\n",
        "\n",
        "    def __len__(self):\n",
        "        return len(self.word2idx)"
      ],
      "execution_count": 257,
      "outputs": []
    },
    {
      "cell_type": "code",
      "metadata": {
        "colab": {
          "base_uri": "https://localhost:8080/"
        },
        "id": "3_eh9lZv34g1",
        "outputId": "80a520d8-6fd8-4b1f-bb21-f8c3f6d24c5c"
      },
      "source": [
        "import nltk\n",
        "nltk.download('punkt')\n",
        "import pickle\n",
        "import argparse\n",
        "from collections import Counter\n",
        "from pycocotools.coco import COCO\n",
        "\n",
        "threshold = 100\n",
        "\n",
        "counter = Counter()\n",
        "for i, caption in enumerate(train_captions):\n",
        "  tokens = nltk.tokenize.word_tokenize(caption)\n",
        "  counter.update(tokens)\n",
        "\n",
        "  if (i+1) % 100000 == 0:\n",
        "    print(\"[{}/{}] Tokenized the captions.\".format(i+1, len(train_captions)))\n",
        "\n",
        "words = [word for word, cnt in counter.items() if cnt >= threshold]\n",
        "\n",
        "vocab = Vocabulary()\n",
        "vocab.add_word('<pad>')\n",
        "vocab.add_word('<start>')\n",
        "vocab.add_word('<end>')\n",
        "vocab.add_word('<unk>')\n",
        "\n",
        "# Add the words to the vocabulary.\n",
        "for i, word in enumerate(words):\n",
        "  vocab.add_word(word)"
      ],
      "execution_count": 258,
      "outputs": [
        {
          "output_type": "stream",
          "text": [
            "[nltk_data] Downloading package punkt to /root/nltk_data...\n",
            "[nltk_data]   Package punkt is already up-to-date!\n",
            "[100000/414113] Tokenized the captions.\n",
            "[200000/414113] Tokenized the captions.\n",
            "[300000/414113] Tokenized the captions.\n",
            "[400000/414113] Tokenized the captions.\n"
          ],
          "name": "stdout"
        }
      ]
    },
    {
      "cell_type": "code",
      "metadata": {
        "id": "2_BPBtGB7aEo"
      },
      "source": [
        "captions = []\n",
        "for caption in train_captions:\n",
        "  # Convert caption (string) to word ids.\n",
        "  tokens = nltk.tokenize.word_tokenize(str(caption).lower())\n",
        "  caption = []\n",
        "  caption.append(vocab('<start>'))\n",
        "  caption.extend([vocab(token) for token in tokens])\n",
        "  caption.append(vocab('<end>'))\n",
        "  target = torch.Tensor(caption)\n",
        "  captions.append(target)"
      ],
      "execution_count": 259,
      "outputs": []
    },
    {
      "cell_type": "code",
      "metadata": {
        "id": "-iQD1mD8DWdS",
        "colab": {
          "base_uri": "https://localhost:8080/"
        },
        "outputId": "904664ee-b92c-4832-a0a3-b6e28b6ce443"
      },
      "source": [
        "# 모든 caption 중 최대 길이\n",
        "\n",
        "max_len = 0\n",
        "for cap in captions:\n",
        "  if max_len < len(cap):\n",
        "    max_len = len(cap)\n",
        "\n",
        "print(max_len)"
      ],
      "execution_count": 260,
      "outputs": [
        {
          "output_type": "stream",
          "text": [
            "59\n"
          ],
          "name": "stdout"
        }
      ]
    },
    {
      "cell_type": "code",
      "metadata": {
        "id": "LL3BkBFlBsCV",
        "colab": {
          "base_uri": "https://localhost:8080/"
        },
        "outputId": "84103105-f09d-44fc-b6ff-aac6d9b160eb"
      },
      "source": [
        "# id 화 된 caption sample\n",
        "\n",
        "lengths = [len(cap) for cap in captions]\n",
        "targets = torch.zeros(len(captions), max_len).long()\n",
        "for i, cap in enumerate(captions):\n",
        "  end = lengths[i]\n",
        "  targets[i, :end] = cap[:end]   \n",
        "\n",
        "\n",
        "print(targets[0])"
      ],
      "execution_count": 261,
      "outputs": [
        {
          "output_type": "stream",
          "text": [
            "tensor([ 1,  7,  5,  6,  7,  8,  9, 10, 11, 12, 13, 14,  5, 10, 15, 16, 17, 18,\n",
            "        19,  2,  0,  0,  0,  0,  0,  0,  0,  0,  0,  0,  0,  0,  0,  0,  0,  0,\n",
            "         0,  0,  0,  0,  0,  0,  0,  0,  0,  0,  0,  0,  0,  0,  0,  0,  0,  0,\n",
            "         0,  0,  0,  0,  0])\n"
          ],
          "name": "stdout"
        }
      ]
    },
    {
      "cell_type": "code",
      "metadata": {
        "id": "ELbxXa6rZw3M"
      },
      "source": [
        "# 데이터가 너무 크므로 1000개의 caption 을 추출하여 training.\n",
        "\n",
        "targets = targets[:1000]"
      ],
      "execution_count": 262,
      "outputs": []
    },
    {
      "cell_type": "markdown",
      "metadata": {
        "id": "crb-08UkoeH6"
      },
      "source": [
        "# Dataset"
      ]
    },
    {
      "cell_type": "code",
      "metadata": {
        "id": "IBE586eoFHqr"
      },
      "source": [
        "class CocoDataset(data.Dataset):\n",
        "  def __init__(self, img_name_vector, targets, transform):\n",
        "    self.img_name_vector = img_name_vector\n",
        "    self.targets = targets\n",
        "    self.transform = transform\n",
        "\n",
        "  def __getitem__(self, index):\n",
        "    \"\"\"Returns one data pair (image and caption).\"\"\"\n",
        "\n",
        "    image = Image.open(img_name_vector[index]).convert(\"RGB\")\n",
        "    if self.transform is not None:\n",
        "      image = self.transform(image)\n",
        "\n",
        "    target = targets[index]\n",
        "\n",
        "    return image, target\n",
        "\n",
        "  def __len__(self):\n",
        "    return len(self.targets)"
      ],
      "execution_count": 263,
      "outputs": []
    },
    {
      "cell_type": "code",
      "metadata": {
        "id": "eCwgJcCeGwWc"
      },
      "source": [
        "transform = T.Compose([\n",
        "        T.ToTensor(), \n",
        "        T.Resize((224,224)),\n",
        "        T.Normalize((0.485, 0.456, 0.406), \n",
        "                             (0.229, 0.224, 0.225))])\n",
        "\n",
        "coco = CocoDataset(img_name_vector, targets, transform=transform)"
      ],
      "execution_count": 264,
      "outputs": []
    },
    {
      "cell_type": "markdown",
      "metadata": {
        "id": "hn3NCbURyuWa"
      },
      "source": [
        "# ViT"
      ]
    },
    {
      "cell_type": "code",
      "metadata": {
        "id": "DYStZXwqaz6e",
        "colab": {
          "base_uri": "https://localhost:8080/"
        },
        "outputId": "ec490863-e22d-49cf-998f-78ab27b45c4b"
      },
      "source": [
        "%pip install transformers\n",
        "\n",
        "from transformers import ViTModel, ViTConfig"
      ],
      "execution_count": 265,
      "outputs": [
        {
          "output_type": "stream",
          "text": [
            "Requirement already satisfied: transformers in /usr/local/lib/python3.7/dist-packages (4.6.1)\n",
            "Requirement already satisfied: requests in /usr/local/lib/python3.7/dist-packages (from transformers) (2.23.0)\n",
            "Requirement already satisfied: tqdm>=4.27 in /usr/local/lib/python3.7/dist-packages (from transformers) (4.41.1)\n",
            "Requirement already satisfied: tokenizers<0.11,>=0.10.1 in /usr/local/lib/python3.7/dist-packages (from transformers) (0.10.3)\n",
            "Requirement already satisfied: numpy>=1.17 in /usr/local/lib/python3.7/dist-packages (from transformers) (1.19.5)\n",
            "Requirement already satisfied: importlib-metadata; python_version < \"3.8\" in /usr/local/lib/python3.7/dist-packages (from transformers) (4.0.1)\n",
            "Requirement already satisfied: packaging in /usr/local/lib/python3.7/dist-packages (from transformers) (20.9)\n",
            "Requirement already satisfied: filelock in /usr/local/lib/python3.7/dist-packages (from transformers) (3.0.12)\n",
            "Requirement already satisfied: sacremoses in /usr/local/lib/python3.7/dist-packages (from transformers) (0.0.45)\n",
            "Requirement already satisfied: regex!=2019.12.17 in /usr/local/lib/python3.7/dist-packages (from transformers) (2019.12.20)\n",
            "Requirement already satisfied: huggingface-hub==0.0.8 in /usr/local/lib/python3.7/dist-packages (from transformers) (0.0.8)\n",
            "Requirement already satisfied: certifi>=2017.4.17 in /usr/local/lib/python3.7/dist-packages (from requests->transformers) (2020.12.5)\n",
            "Requirement already satisfied: idna<3,>=2.5 in /usr/local/lib/python3.7/dist-packages (from requests->transformers) (2.10)\n",
            "Requirement already satisfied: urllib3!=1.25.0,!=1.25.1,<1.26,>=1.21.1 in /usr/local/lib/python3.7/dist-packages (from requests->transformers) (1.24.3)\n",
            "Requirement already satisfied: chardet<4,>=3.0.2 in /usr/local/lib/python3.7/dist-packages (from requests->transformers) (3.0.4)\n",
            "Requirement already satisfied: typing-extensions>=3.6.4; python_version < \"3.8\" in /usr/local/lib/python3.7/dist-packages (from importlib-metadata; python_version < \"3.8\"->transformers) (3.7.4.3)\n",
            "Requirement already satisfied: zipp>=0.5 in /usr/local/lib/python3.7/dist-packages (from importlib-metadata; python_version < \"3.8\"->transformers) (3.4.1)\n",
            "Requirement already satisfied: pyparsing>=2.0.2 in /usr/local/lib/python3.7/dist-packages (from packaging->transformers) (2.4.7)\n",
            "Requirement already satisfied: six in /usr/local/lib/python3.7/dist-packages (from sacremoses->transformers) (1.15.0)\n",
            "Requirement already satisfied: click in /usr/local/lib/python3.7/dist-packages (from sacremoses->transformers) (7.1.2)\n",
            "Requirement already satisfied: joblib in /usr/local/lib/python3.7/dist-packages (from sacremoses->transformers) (1.0.1)\n"
          ],
          "name": "stdout"
        }
      ]
    },
    {
      "cell_type": "markdown",
      "metadata": {
        "id": "kSTZbZltomrq"
      },
      "source": [
        "# Token & Positional Embedding"
      ]
    },
    {
      "cell_type": "code",
      "metadata": {
        "id": "eQ8ZdciEsIph"
      },
      "source": [
        "class TokPosEmbedding(nn.Module):\n",
        "  def __init__(self, input_dim, d_model, dropout_ratio):\n",
        "    super().__init__()\n",
        "    # input_dim : input 의 vocab 수.\n",
        "    self.tokEmbedding = nn.Embedding(input_dim, d_model)\n",
        "    self.posEmbedding = nn.Embedding(100, d_model) # cos & sin positional encoding 대신, learnable positional embedding 으로 구현. (max length = 100)\n",
        "                                                   # max length : 입력 sequence 의 최대 길이.\n",
        "    self.d_model = d_model\n",
        "    self.dropout = nn.Dropout(dropout_ratio)\n",
        "\n",
        "  def forward(self, src):\n",
        "    batch_size = src.shape[0]\n",
        "    src_len = src.shape[1]\n",
        "\n",
        "    # 0 ~ src_len 등차 수열값 을 bactch 한개와 동일한 shape으로 생성 (positional embedding)\n",
        "    pos = torch.arange(0, src_len, dtype=dtype) # pos: [src_len]\n",
        "    pos = repeat(pos, 'l -> b l', b=batch_size).to(device) # pos: [batch_size, src_len]\n",
        "\n",
        "    src = self.dropout((self.tokEmbedding(src) * np.sqrt(self.d_model)) + self.posEmbedding(pos))\n",
        "\n",
        "    # src: [batch_size, src_len, d_model]\n",
        "\n",
        "    return src"
      ],
      "execution_count": 266,
      "outputs": []
    },
    {
      "cell_type": "markdown",
      "metadata": {
        "id": "LVh_O0kQC6zN"
      },
      "source": [
        "# Position Wise Feed Forward Layer"
      ]
    },
    {
      "cell_type": "code",
      "metadata": {
        "id": "1qufGVgrx9dJ"
      },
      "source": [
        "class PositionWiseFeedForwardLayer(nn.Module):\n",
        "    def __init__(self, d_model, ff_dim, dropout_ratio):\n",
        "        super().__init__()\n",
        "        # ff_dim : FFN 에서 hidden layer node 수\n",
        "        self.linear1 = nn.Linear(d_model, ff_dim)\n",
        "        self.linear2 = nn.Linear(ff_dim, d_model)\n",
        "\n",
        "        self.dropout = nn.Dropout(dropout_ratio)\n",
        "\n",
        "    def forward(self, x):\n",
        "\n",
        "        # x: [batch_size, seq_len, d_model]\n",
        "\n",
        "        x = self.dropout(torch.relu(self.linear1(x)))\n",
        "\n",
        "        # x: [batch_size, seq_len, ff_dim]\n",
        "\n",
        "        x = self.linear2(x)\n",
        "\n",
        "        # x: [batch_size, seq_len, d_model]\n",
        "\n",
        "        return x"
      ],
      "execution_count": 267,
      "outputs": []
    },
    {
      "cell_type": "markdown",
      "metadata": {
        "id": "KM-BsUvUC2jZ"
      },
      "source": [
        "# Multi Head Attention Layer"
      ]
    },
    {
      "cell_type": "code",
      "metadata": {
        "id": "M3US2DzDA73i"
      },
      "source": [
        "class MultiHeadAttentionLayer(nn.Module):\n",
        "    def __init__(self, d_model, nhead, dropout_ratio):\n",
        "        super().__init__()\n",
        "\n",
        "        self.d_model = d_model # d_model : embed dimension\n",
        "        self.nhead = nhead # nhead : head 수\n",
        "        self.head_dim = d_model // nhead # head_dim : head 마다의 dimension\n",
        "\n",
        "        # 위 figure 에서 Q, K, V 가 head 수 만큼의 Linear 를 거쳐 Scaled Dot-Product Attention에 들어가는데\n",
        "        # 실제 구현에서는 Q, K, V 각각이 하나의 Linear 를 거쳐 나온 것을 쪼개서 Scaled Dot-Product Attention에 들어가게 함.\n",
        "        self.qLinear = nn.Linear(d_model, d_model) # query lineqr\n",
        "        self.kLinear = nn.Linear(d_model, d_model) # key linear\n",
        "        self.vLinear = nn.Linear(d_model, d_model) # value linear\n",
        "\n",
        "        self.oLinear = nn.Linear(d_model, d_model) # output linear\n",
        "\n",
        "        self.dropout = nn.Dropout(dropout_ratio)\n",
        "\n",
        "    def forward(self, query, key, value, mask = None):\n",
        "\n",
        "        batch_size = query.shape[0]\n",
        "        query_len = query.shape[1]\n",
        "        value_len = key_len = key.shape[1]\n",
        "\n",
        "        # query: [batch_size, query_len, d_model]\n",
        "        # key: [batch_size, key_len, d_model]\n",
        "        # value: [batch_size, value_len, d_model]\n",
        " \n",
        "        Q = self.qLinear(query)\n",
        "        K = self.kLinear(key)\n",
        "        V = self.vLinear(value)\n",
        "\n",
        "        # Q: [batch_size, query_len, d_model]\n",
        "        # K: [batch_size, key_len, d_model]\n",
        "        # V: [batch_size, value_len, d_model]\n",
        "\n",
        "        # d_model = nhead * head_dim\n",
        "        # head 수로 distribute\n",
        "        Q = rearrange(Q, 'b l (h d) -> b h l d', h=self.nhead)\n",
        "        K = rearrange(K, 'b l (h d) -> b h l d', h=self.nhead)\n",
        "        V = rearrange(V, 'b l (h d) -> b h l d', h=self.nhead)\n",
        "\n",
        "        # Q: [batch_size, nhead, query_len, head_dim]\n",
        "        # K: [batch_size, nhead, key_len, head_dim]\n",
        "        # V: [batch_size, nhead, value_len, head_dim]\n",
        "\n",
        "        #=========Scaled Dot-Product Attention=========\n",
        "\n",
        "        # attention 계산\n",
        "        attention = torch.matmul(Q, rearrange(K, 'b h l d -> b h d l')) / np.sqrt(self.head_dim)\n",
        "\n",
        "        # attention: [batch_size, nhead, query_len, key_len]\n",
        "\n",
        "        if mask is not None:\n",
        "            # mask 가 true 면 -1e9로 하여 softmax 값 0으로.\n",
        "            attention = attention.masked_fill(mask, -1e9)\n",
        "\n",
        "        attention = torch.softmax(attention, dim=-1)\n",
        "\n",
        "        # attention: [batch_size, nhead, query_len, key_len]\n",
        "\n",
        "        # context vector 계산\n",
        "        c = torch.matmul(self.dropout(attention), V)\n",
        "\n",
        "        # c: [batch_size, nhead, query_len, head_dim]\n",
        "\n",
        "        #=========Scaled Dot-Product Attention=========\n",
        "\n",
        "        # reshape & concat\n",
        "        c = rearrange(c, 'b h l d -> b l (h d)')\n",
        "\n",
        "        # c: [batch_size, query_len, d_model]\n",
        "\n",
        "        output = self.oLinear(c)\n",
        "\n",
        "        # output: [batch_size, query_len, d_model]\n",
        "\n",
        "        return output, attention"
      ],
      "execution_count": 268,
      "outputs": []
    },
    {
      "cell_type": "markdown",
      "metadata": {
        "id": "jN_la9CsuOF0"
      },
      "source": [
        "# Decoder Layer"
      ]
    },
    {
      "cell_type": "code",
      "metadata": {
        "id": "CXzm2i2juNio"
      },
      "source": [
        "class DecoderLayer(nn.Module):\n",
        "    def __init__(self, d_model, nhead, ff_dim, dropout_ratio):\n",
        "        super().__init__()\n",
        "\n",
        "        self.layerNorm1 = nn.LayerNorm(d_model)\n",
        "        self.layerNorm2 = nn.LayerNorm(d_model)\n",
        "        self.layerNorm3 = nn.LayerNorm(d_model)\n",
        "        self.multiHeadAttentionLayer1 = MultiHeadAttentionLayer(d_model, nhead, dropout_ratio)\n",
        "        self.multiHeadAttentionLayer2= MultiHeadAttentionLayer(d_model, nhead, dropout_ratio)\n",
        "        self.positionWiseFeedForward = PositionWiseFeedForwardLayer(d_model, ff_dim, dropout_ratio)\n",
        "        self.dropout = nn.Dropout(dropout_ratio)\n",
        "\n",
        "    def forward(self, tgt, enc_src, tgt_mask, src_mask):\n",
        "\n",
        "        # tgt: [batch_size, tgt_len, d_model] # decoder 에 입력되는 값.\n",
        "        # enc_src: [batch_size, src_len, d_model] # encoder의 출력값.\n",
        "        # tgt_mask: [batch_size, tgt_len] # tgt 에 적용되는 mask (chitting 방지 mask)\n",
        "        # src_mask: [batch_size, src_len]\n",
        "\n",
        "        # self attention\n",
        "        _tgt, _ = self.multiHeadAttentionLayer1(tgt, tgt, tgt, tgt_mask)\n",
        "\n",
        "        # dropout to the output of each sub-layer, before it is added to the sub-layer input and normalized\n",
        "        tgt = self.layerNorm1(tgt + self.dropout(_tgt))\n",
        "\n",
        "        # tgt: [batch_size, tgt_len, d_model]\n",
        "\n",
        "        # encoder attention\n",
        "        # decoder 의 query, encdoer 의 key, value 로 attention\n",
        "        _tgt, attention = self.multiHeadAttentionLayer2(tgt, enc_src, enc_src, src_mask)\n",
        "\n",
        "        # dropout to the output of each sub-layer, before it is added to the sub-layer input and normalized\n",
        "        tgt = self.layerNorm2(tgt + self.dropout(_tgt))\n",
        "\n",
        "        # tgt: [batch_size, tgt_len, d_model]\n",
        "\n",
        "        # positionwise feedforward\n",
        "        _tgt = self.positionWiseFeedForward(tgt)\n",
        "\n",
        "        # dropout to the output of each sub-layer, before it is added to the sub-layer input and normalized\n",
        "        tgt = self.layerNorm3(tgt + self.dropout(_tgt))\n",
        "\n",
        "        # tgt: [batch_size, tgt_len, d_model]\n",
        "        # attention: [batch_size, nhead, tgt_len, src_len]\n",
        "\n",
        "        return tgt, attention"
      ],
      "execution_count": 269,
      "outputs": []
    },
    {
      "cell_type": "markdown",
      "metadata": {
        "id": "SCLoxmbsuT1I"
      },
      "source": [
        "# Decoder"
      ]
    },
    {
      "cell_type": "code",
      "metadata": {
        "id": "nOAWBif4uTKE"
      },
      "source": [
        "class Decoder(nn.Module):\n",
        "    def __init__(self, d_model, n_layers, nhead, ff_dim, dropout_ratio):\n",
        "        super().__init__()\n",
        "        # n_layers : decoder layer 반복 수\n",
        "        # Decoder Layer 을 n_layers 만큼 반복.\n",
        "        self.layers = nn.ModuleList([DecoderLayer(d_model, nhead, ff_dim, dropout_ratio) for _ in range(n_layers)])\n",
        "\n",
        "    def forward(self, tgt, enc_src, tgt_mask, src_mask):\n",
        "\n",
        "        # tgt: [batch_size, tgt_len]\n",
        "        # enc_src: [batch_size, src_len, d_model]\n",
        "        # tgt_mask: [batch_size, tgt_len]\n",
        "        # src_mask: [batch_size, src_len]\n",
        "\n",
        "        batch_size = tgt.shape[0]\n",
        "        tgt_len = tgt.shape[1]\n",
        "\n",
        "        # tgt: [batch_size, tgt_len, d_model]\n",
        "\n",
        "        for layer in self.layers:\n",
        "            tgt, attention = layer(tgt, enc_src, tgt_mask, src_mask)\n",
        "\n",
        "        # tgt: [batch_size, tgt_len, d_model]\n",
        "        # attention: [batch_size, nhead, tgt_len, src_len]\n",
        "\n",
        "        return tgt, attention"
      ],
      "execution_count": 270,
      "outputs": []
    },
    {
      "cell_type": "markdown",
      "metadata": {
        "id": "NEAe8i97opt7"
      },
      "source": [
        "# Transformer"
      ]
    },
    {
      "cell_type": "code",
      "metadata": {
        "id": "xgr5r3oCyhCg"
      },
      "source": [
        "class Transformer(nn.Module):\n",
        "    def __init__(self, input_dim, output_dim, d_model, n_layers, nhead, ff_dim, dropout_ratio):\n",
        "        super().__init__()\n",
        "\n",
        "        self.vit = ViTModel.from_pretrained('google/vit-base-patch16-224-in21k', output_attentions=True)\n",
        "\n",
        "        self.project = nn.Linear(input_dim, d_model)\n",
        "\n",
        "        self.decEmbedding = TokPosEmbedding(output_dim, d_model, dropout_ratio)               # 외부에서 embedding\n",
        "        self.decoderLayer =DecoderLayer(d_model, nhead, ff_dim, dropout_ratio)\n",
        "        self.decoder = Decoder(d_model, n_layers, nhead, ff_dim, dropout_ratio)\n",
        "        self.linear = nn.Linear(d_model, output_dim)                                          # 외부에서 마지막 fc-layer\n",
        "\n",
        "    def make_src_mask(self, src, pad):\n",
        "\n",
        "        # src: [batch_size, src_len]\n",
        "\n",
        "        # pad mask\n",
        "        src_mask = (src.data.eq(pad)).unsqueeze(1).unsqueeze(2)\n",
        "\n",
        "        # src_mask: [batch_size, 1, 1, src_len]\n",
        "        return src_mask\n",
        "\n",
        "    def make_tgt_mask(self, tgt, pad):\n",
        "        \n",
        "        # tgt: [batch_size, tgt_len]\n",
        "\n",
        "        tgt_pad_mask = (tgt.data.eq(pad)).unsqueeze(1).unsqueeze(2)\n",
        "\n",
        "        # tgt_pad_mask: [batch_size, 1, 1, tgt_len]\n",
        "\n",
        "        tgt_len = tgt.shape[1]\n",
        "\n",
        "        # chitting 방지 mask\n",
        "        tgt_sub_mask = torch.triu(torch.ones((tgt_len, tgt_len))).bool().to(device)\n",
        "\n",
        "        # tgt_sub_mask: [tgt_len, tgt_len] (upper triangular square matrix 형태)\n",
        "\n",
        "        # mask 값이 true 면 fill 할 것이므로 pad_mask 와 or 연산.\n",
        "        tgt_mask = tgt_pad_mask | tgt_sub_mask\n",
        "\n",
        "        # tgt_mask: [batch_size, 1, tgt_len, tgt_len]\n",
        "\n",
        "        return tgt_mask\n",
        "\n",
        "    def forward(self, src, tgt, pad):\n",
        "\n",
        "        # src : 이미지 소스 : [batch_size, channel, w, h]\n",
        "\n",
        "        src = self.vit(src)\n",
        "\n",
        "        src = self.project(src.last_hidden_state[:, 1:, :])\n",
        "\n",
        "        # tgt: [batch_size, tgt_len]\n",
        "\n",
        "        tgt_mask = self.make_tgt_mask(tgt, pad)\n",
        "\n",
        "        # tgt_mask: [batch_size, 1, tgt_len, tgt_len]\n",
        "\n",
        "        tgt = self.decEmbedding(tgt)\n",
        "\n",
        "        # enc_src: [batch_size, src_len, d_model]\n",
        "\n",
        "        tgt, attention = self.decoder(tgt, src, tgt_mask, None)\n",
        "\n",
        "        # tgt: [batch_size, tgt_len, d_model]\n",
        "        # attention: [batch_size, nhead, tgt_len, src_len]\n",
        "\n",
        "        output = self.linear(tgt)\n",
        "\n",
        "        # output: [batch_size, tgt_len, output_dim]\n",
        "\n",
        "        return output\n",
        "\n",
        "    def generate(self, src, start_id, sample_size, pad):\n",
        "\n",
        "        # src : 이미지 소스 : [batch_size, path 개수, 768]\n",
        "        batch_size = src.shape[0]\n",
        "\n",
        "        src = self.vit(src)\n",
        "\n",
        "        attentions = src.attentions\n",
        "\n",
        "        src = self.project(src.last_hidden_state[:, 1:, :])\n",
        "      \n",
        "        sampled_tensor = torch.tensor([start_id], dtype=dtype)\n",
        "        # sampled_tensor: [1]\n",
        "\n",
        "        sampled_tensor = repeat(sampled_tensor, 's -> b s', b=batch_size).to(device)\n",
        "        # sampled_tensor: [batch_size, 1]\n",
        "        for _ in range(sample_size):\n",
        "\n",
        "          tgt_mask = self.make_tgt_mask(sampled_tensor, pad)\n",
        "          tgt = self.decEmbedding(sampled_tensor)\n",
        "          \n",
        "          output, attention = self.decoder(tgt, src, tgt_mask, None)\n",
        "          output = self.linear(output)\n",
        "\n",
        "          pred_token = output.argmax(2)[:,-1].unsqueeze(1)\n",
        "\n",
        "          sampled_tensor = torch.cat((sampled_tensor, pred_token), 1) # pred sentence 에 concat\n",
        "\n",
        "        return sampled_tensor, attention, attentions"
      ],
      "execution_count": 271,
      "outputs": []
    },
    {
      "cell_type": "markdown",
      "metadata": {
        "id": "uqgniGjMorjl"
      },
      "source": [
        "# HyperParameter (Overfitting)"
      ]
    },
    {
      "cell_type": "code",
      "metadata": {
        "id": "sOdx3qihUzlQ",
        "colab": {
          "base_uri": "https://localhost:8080/"
        },
        "outputId": "34dbd8a9-89f4-45ad-8ae8-db6a9000f278"
      },
      "source": [
        "print('vocab size : ', len(vocab))\n",
        "\n",
        "batch_size = 64\n",
        "num_epochs = 100\n",
        "patch_dim = 768\n",
        "vocab_size = len(vocab)\n",
        "d_model = 512\n",
        "n_layers = 2\n",
        "nhead = 4\n",
        "ff_dim = 2048\n",
        "dropout_ratio = 0.1\n",
        "learning_rate = 0.001\n",
        "\n",
        "pad = 0\n",
        "start = 1\n",
        "\n",
        "model = Transformer(patch_dim, vocab_size, d_model, n_layers, nhead, ff_dim, dropout_ratio)\n",
        "optimizer = optim.Adam(model.parameters(), learning_rate)\n",
        "criterion = nn.CrossEntropyLoss()"
      ],
      "execution_count": 277,
      "outputs": [
        {
          "output_type": "stream",
          "text": [
            "vocab size :  2031\n"
          ],
          "name": "stdout"
        }
      ]
    },
    {
      "cell_type": "markdown",
      "metadata": {
        "id": "ScXIwog_qCIq"
      },
      "source": [
        "# DataLoader"
      ]
    },
    {
      "cell_type": "code",
      "metadata": {
        "id": "Ye-ash5GqBrY"
      },
      "source": [
        "data_loader = DataLoader(coco, batch_size=batch_size, shuffle=True)"
      ],
      "execution_count": 278,
      "outputs": []
    },
    {
      "cell_type": "markdown",
      "metadata": {
        "id": "j3poR5mlowas"
      },
      "source": [
        "# Trainer"
      ]
    },
    {
      "cell_type": "code",
      "metadata": {
        "id": "V3nQAjozsP0l"
      },
      "source": [
        "def trainer(model, criterion, optimizer, num_epochs, pad):\n",
        "\n",
        "    pad = torch.tensor([pad], dtype=dtype).to(device)\n",
        "\n",
        "    model = model.to(device)\n",
        "    running_loss = {}\n",
        "\n",
        "    for e in range(num_epochs):\n",
        "\n",
        "        print('Epoch {}/{}'.format(e, num_epochs))\n",
        "        print('-' * 10)\n",
        "\n",
        "        for phase in ['train']:\n",
        "          if phase == 'train':\n",
        "            model.train()  # Set model to training mode\n",
        "          else:\n",
        "            model.eval()   # Set model to evaluate mode\n",
        "\n",
        "          running_loss[phase] = 0.0\n",
        "\n",
        "          for iter, (images, captions) in enumerate(data_loader):\n",
        "\n",
        "              images = images.to(device)\n",
        "              captions = captions.to(device)\n",
        "\n",
        "              optimizer.zero_grad()\n",
        "\n",
        "              # forward\n",
        "              # track history if only in train\n",
        "              with torch.set_grad_enabled(phase == 'train'):\n",
        "                scores = model(images, captions[:, :-1], pad) # correct 값의 마지막 원소 배제 (end token 없음. 마지막 원소 다음 token 학습할 필요 x)\n",
        "                # scores: [batch_size, tgt_len - 1, output_dim]\n",
        "                scores = rearrange(scores, 'b l d -> (b l) d')\n",
        "                # captions: [batch_size, tgt_len]\n",
        "              \n",
        "                # correct 값의 첫 원소 배제\n",
        "                captions = rearrange(captions[:, 1:], 'b l -> (b l)')\n",
        "\n",
        "                # scores  : [batch_size * tgt_len - 1, output_dim]\n",
        "                # captions : [batch_size * tgt_len - 1]\n",
        "\n",
        "                loss = criterion(scores, captions)\n",
        "\n",
        "                # backward + optimize only if in training phase\n",
        "                if phase == 'train':\n",
        "                  loss.backward()\n",
        "                  #torch.nn.utils.clip_grad_norm_(model.parameters(), 5.0) # gradient clippling\n",
        "                  optimizer.step()\n",
        "\n",
        "              running_loss[phase] += loss.item() * batch_size\n",
        "\n",
        "          running_loss[phase] = running_loss[phase] / (len(data_loader) * batch_size)\n",
        "\n",
        "          print('{} Loss: {:.4f}'.format(phase, running_loss[phase]))\n",
        "\n",
        "    return model"
      ],
      "execution_count": 279,
      "outputs": []
    },
    {
      "cell_type": "markdown",
      "metadata": {
        "id": "_kW12ZKIyWzx"
      },
      "source": [
        "# Train"
      ]
    },
    {
      "cell_type": "code",
      "metadata": {
        "id": "LGPoifo7Uj1x",
        "colab": {
          "base_uri": "https://localhost:8080/"
        },
        "outputId": "5731528c-e9d5-4fd3-9e66-dd92db6491e9"
      },
      "source": [
        "model = trainer(model, criterion, optimizer, num_epochs, pad)"
      ],
      "execution_count": 281,
      "outputs": [
        {
          "output_type": "stream",
          "text": [
            "Epoch 0/100\n",
            "----------\n",
            "train Loss: 1.7980\n",
            "Epoch 1/100\n",
            "----------\n",
            "train Loss: 0.9845\n",
            "Epoch 2/100\n",
            "----------\n",
            "train Loss: 0.9028\n",
            "Epoch 3/100\n",
            "----------\n",
            "train Loss: 0.8436\n",
            "Epoch 4/100\n",
            "----------\n",
            "train Loss: 0.7899\n",
            "Epoch 5/100\n",
            "----------\n",
            "train Loss: 0.7469\n",
            "Epoch 6/100\n",
            "----------\n",
            "train Loss: 0.7107\n",
            "Epoch 7/100\n",
            "----------\n",
            "train Loss: 0.6750\n",
            "Epoch 8/100\n",
            "----------\n",
            "train Loss: 0.6452\n",
            "Epoch 9/100\n",
            "----------\n",
            "train Loss: 0.6178\n",
            "Epoch 10/100\n",
            "----------\n",
            "train Loss: 0.5886\n",
            "Epoch 11/100\n",
            "----------\n",
            "train Loss: 0.5649\n",
            "Epoch 12/100\n",
            "----------\n",
            "train Loss: 0.5392\n",
            "Epoch 13/100\n",
            "----------\n",
            "train Loss: 0.5154\n",
            "Epoch 14/100\n",
            "----------\n",
            "train Loss: 0.4942\n",
            "Epoch 15/100\n",
            "----------\n",
            "train Loss: 0.4685\n",
            "Epoch 16/100\n",
            "----------\n",
            "train Loss: 0.4442\n",
            "Epoch 17/100\n",
            "----------\n",
            "train Loss: 0.4230\n",
            "Epoch 18/100\n",
            "----------\n",
            "train Loss: 0.4028\n",
            "Epoch 19/100\n",
            "----------\n",
            "train Loss: 0.3837\n",
            "Epoch 20/100\n",
            "----------\n",
            "train Loss: 0.3685\n",
            "Epoch 21/100\n",
            "----------\n",
            "train Loss: 0.3454\n",
            "Epoch 22/100\n",
            "----------\n",
            "train Loss: 0.3294\n",
            "Epoch 23/100\n",
            "----------\n",
            "train Loss: 0.3115\n",
            "Epoch 24/100\n",
            "----------\n",
            "train Loss: 0.2930\n",
            "Epoch 25/100\n",
            "----------\n",
            "train Loss: 0.2797\n",
            "Epoch 26/100\n",
            "----------\n",
            "train Loss: 0.2629\n",
            "Epoch 27/100\n",
            "----------\n",
            "train Loss: 0.2499\n",
            "Epoch 28/100\n",
            "----------\n",
            "train Loss: 0.2343\n",
            "Epoch 29/100\n",
            "----------\n",
            "train Loss: 0.2252\n",
            "Epoch 30/100\n",
            "----------\n",
            "train Loss: 0.2104\n",
            "Epoch 31/100\n",
            "----------\n",
            "train Loss: 0.2039\n",
            "Epoch 32/100\n",
            "----------\n",
            "train Loss: 0.1932\n",
            "Epoch 33/100\n",
            "----------\n",
            "train Loss: 0.1841\n",
            "Epoch 34/100\n",
            "----------\n",
            "train Loss: 0.1771\n",
            "Epoch 35/100\n",
            "----------\n",
            "train Loss: 0.1682\n",
            "Epoch 36/100\n",
            "----------\n",
            "train Loss: 0.1618\n",
            "Epoch 37/100\n",
            "----------\n",
            "train Loss: 0.1524\n",
            "Epoch 38/100\n",
            "----------\n",
            "train Loss: 0.1493\n",
            "Epoch 39/100\n",
            "----------\n",
            "train Loss: 0.1445\n",
            "Epoch 40/100\n",
            "----------\n",
            "train Loss: 0.1407\n",
            "Epoch 41/100\n",
            "----------\n",
            "train Loss: 0.1327\n",
            "Epoch 42/100\n",
            "----------\n",
            "train Loss: 0.1273\n",
            "Epoch 43/100\n",
            "----------\n",
            "train Loss: 0.1246\n",
            "Epoch 44/100\n",
            "----------\n",
            "train Loss: 0.1180\n",
            "Epoch 45/100\n",
            "----------\n",
            "train Loss: 0.1149\n",
            "Epoch 46/100\n",
            "----------\n",
            "train Loss: 0.1105\n",
            "Epoch 47/100\n",
            "----------\n",
            "train Loss: 0.1063\n",
            "Epoch 48/100\n",
            "----------\n",
            "train Loss: 0.1068\n",
            "Epoch 49/100\n",
            "----------\n",
            "train Loss: 0.1023\n",
            "Epoch 50/100\n",
            "----------\n",
            "train Loss: 0.0970\n",
            "Epoch 51/100\n",
            "----------\n",
            "train Loss: 0.0947\n",
            "Epoch 52/100\n",
            "----------\n",
            "train Loss: 0.0938\n",
            "Epoch 53/100\n",
            "----------\n",
            "train Loss: 0.0909\n",
            "Epoch 54/100\n",
            "----------\n",
            "train Loss: 0.0885\n",
            "Epoch 55/100\n",
            "----------\n",
            "train Loss: 0.0840\n",
            "Epoch 56/100\n",
            "----------\n",
            "train Loss: 0.0840\n",
            "Epoch 57/100\n",
            "----------\n",
            "train Loss: 0.0801\n",
            "Epoch 58/100\n",
            "----------\n",
            "train Loss: 0.0802\n",
            "Epoch 59/100\n",
            "----------\n",
            "train Loss: 0.0764\n",
            "Epoch 60/100\n",
            "----------\n",
            "train Loss: 0.0734\n",
            "Epoch 61/100\n",
            "----------\n",
            "train Loss: 0.0723\n",
            "Epoch 62/100\n",
            "----------\n",
            "train Loss: 0.0697\n",
            "Epoch 63/100\n",
            "----------\n",
            "train Loss: 0.0703\n",
            "Epoch 64/100\n",
            "----------\n",
            "train Loss: 0.0688\n",
            "Epoch 65/100\n",
            "----------\n",
            "train Loss: 0.0670\n",
            "Epoch 66/100\n",
            "----------\n",
            "train Loss: 0.0666\n",
            "Epoch 67/100\n",
            "----------\n",
            "train Loss: 0.0641\n",
            "Epoch 68/100\n",
            "----------\n",
            "train Loss: 0.0624\n",
            "Epoch 69/100\n",
            "----------\n",
            "train Loss: 0.0613\n",
            "Epoch 70/100\n",
            "----------\n",
            "train Loss: 0.0599\n",
            "Epoch 71/100\n",
            "----------\n",
            "train Loss: 0.0614\n",
            "Epoch 72/100\n",
            "----------\n",
            "train Loss: 0.0593\n",
            "Epoch 73/100\n",
            "----------\n",
            "train Loss: 0.0596\n",
            "Epoch 74/100\n",
            "----------\n",
            "train Loss: 0.0574\n",
            "Epoch 75/100\n",
            "----------\n",
            "train Loss: 0.0576\n",
            "Epoch 76/100\n",
            "----------\n",
            "train Loss: 0.0574\n",
            "Epoch 77/100\n",
            "----------\n",
            "train Loss: 0.0570\n",
            "Epoch 78/100\n",
            "----------\n",
            "train Loss: 0.0598\n",
            "Epoch 79/100\n",
            "----------\n",
            "train Loss: 0.0595\n",
            "Epoch 80/100\n",
            "----------\n",
            "train Loss: 0.0594\n",
            "Epoch 81/100\n",
            "----------\n",
            "train Loss: 0.0562\n",
            "Epoch 82/100\n",
            "----------\n",
            "train Loss: 0.0549\n",
            "Epoch 83/100\n",
            "----------\n",
            "train Loss: 0.0537\n",
            "Epoch 84/100\n",
            "----------\n",
            "train Loss: 0.0538\n",
            "Epoch 85/100\n",
            "----------\n",
            "train Loss: 0.0536\n",
            "Epoch 86/100\n",
            "----------\n",
            "train Loss: 0.0525\n",
            "Epoch 87/100\n",
            "----------\n",
            "train Loss: 0.0514\n",
            "Epoch 88/100\n",
            "----------\n",
            "train Loss: 0.0501\n",
            "Epoch 89/100\n",
            "----------\n",
            "train Loss: 0.0504\n",
            "Epoch 90/100\n",
            "----------\n",
            "train Loss: 0.0502\n",
            "Epoch 91/100\n",
            "----------\n",
            "train Loss: 0.0490\n",
            "Epoch 92/100\n",
            "----------\n",
            "train Loss: 0.0501\n",
            "Epoch 93/100\n",
            "----------\n",
            "train Loss: 0.0495\n",
            "Epoch 94/100\n",
            "----------\n",
            "train Loss: 0.0472\n",
            "Epoch 95/100\n",
            "----------\n",
            "train Loss: 0.0498\n",
            "Epoch 96/100\n",
            "----------\n",
            "train Loss: 0.0481\n",
            "Epoch 97/100\n",
            "----------\n",
            "train Loss: 0.0502\n",
            "Epoch 98/100\n",
            "----------\n",
            "train Loss: 0.0485\n",
            "Epoch 99/100\n",
            "----------\n",
            "train Loss: 0.0462\n"
          ],
          "name": "stdout"
        }
      ]
    },
    {
      "cell_type": "markdown",
      "metadata": {
        "id": "Gk8KrnviEaWv"
      },
      "source": [
        "# Generating Caption & Visualizing Attention"
      ]
    },
    {
      "cell_type": "code",
      "metadata": {
        "id": "1i51jRq5IpW8",
        "colab": {
          "base_uri": "https://localhost:8080/",
          "height": 395
        },
        "outputId": "02d06549-0c72-4200-eded-c26a1a4b67a0"
      },
      "source": [
        "idx = random.choice(range(1000))\n",
        "\n",
        "image = torch.FloatTensor(coco[idx][0]).to(device)\n",
        "print(train_captions[idx])\n",
        "print(targets[idx])\n",
        "plt.imshow(Image.open(img_name_vector[idx]))"
      ],
      "execution_count": 567,
      "outputs": [
        {
          "output_type": "stream",
          "text": [
            "A person is in mid air on a snowboard.\n",
            "tensor([  1,   7, 118,  10,   6, 490,  53,  37,   7, 423,  19,   2,   0,   0,\n",
            "          0,   0,   0,   0,   0,   0,   0,   0,   0,   0,   0,   0,   0,   0,\n",
            "          0,   0,   0,   0,   0,   0,   0,   0,   0,   0,   0,   0,   0,   0,\n",
            "          0,   0,   0,   0,   0,   0,   0,   0,   0,   0,   0,   0,   0,   0,\n",
            "          0,   0,   0])\n"
          ],
          "name": "stdout"
        },
        {
          "output_type": "execute_result",
          "data": {
            "text/plain": [
              "<matplotlib.image.AxesImage at 0x7f9769853890>"
            ]
          },
          "metadata": {
            "tags": []
          },
          "execution_count": 567
        },
        {
          "output_type": "display_data",
          "data": {
            "image/png": "[encoded data removed]",
            "text/plain": [
              "<Figure size 432x288 with 1 Axes>"
            ]
          },
          "metadata": {
            "tags": [],
            "needs_background": "light"
          }
        }
      ]
    },
    {
      "cell_type": "code",
      "metadata": {
        "id": "39rC6K3FKJZY"
      },
      "source": [
        "start = torch.tensor([start], dtype=dtype).to(device)\n",
        "pad = torch.tensor([pad], dtype=dtype).to(device)\n",
        "model = model.to(device)\n",
        "with torch.no_grad():\n",
        "  sample , att1, att2 = model.generate(image.unsqueeze(0), start_id=start, sample_size=max_len, pad = pad)"
      ],
      "execution_count": 568,
      "outputs": []
    },
    {
      "cell_type": "code",
      "metadata": {
        "id": "KNoFIs9fUYGz",
        "colab": {
          "base_uri": "https://localhost:8080/"
        },
        "outputId": "9a517d57-28ed-49d8-bf8c-0983ea9bfcc8"
      },
      "source": [
        "print(att1.shape) # [1, 4, 59, 196] : [batch_size, num_head, caption_len, num_patch]\n",
        "\n",
        "attention = att1.squeeze(0).cpu().detach() # [1, 4, 59, 196] -> [4, 59, 196]\n",
        "\n",
        "attention = attention.transpose(0, 1) # [4, 59, 196] -> [59, 4, 196]\n",
        "\n",
        "print(attention.shape)\n",
        "\n",
        "# 224 * 224 이미지를 16 * 16 패치로 분할하였으므로 패치 개수는 196 즉, 14 * 14. \n",
        "attentionMap = attention.reshape(-1, nhead, 14, 14) # [59, 4, 196] -> [59, 4, 14, 14]\n",
        "\n",
        "# attention map 의 값이 너무 작아서 scaling\n",
        "attentionMap = attentionMap * 50\n",
        "\n",
        "print(attentionMap.shape)"
      ],
      "execution_count": 569,
      "outputs": [
        {
          "output_type": "stream",
          "text": [
            "torch.Size([1, 4, 59, 196])\n",
            "torch.Size([59, 4, 196])\n",
            "torch.Size([59, 4, 14, 14])\n"
          ],
          "name": "stdout"
        }
      ]
    },
    {
      "cell_type": "code",
      "metadata": {
        "id": "zLM9c2FXKKio",
        "colab": {
          "base_uri": "https://localhost:8080/"
        },
        "outputId": "b9cf7cec-b3c6-46d3-f952-95a6bac7fb00"
      },
      "source": [
        "GN = [] # generated caption\n",
        "\n",
        "for idx in sample.squeeze():\n",
        "  if vocab.idx2word[idx.item()] == '<pad>':\n",
        "    break\n",
        "  GN.append(vocab.idx2word[idx.item()])\n",
        "  print(vocab.idx2word[idx.item()], end=' ')"
      ],
      "execution_count": 570,
      "outputs": [
        {
          "output_type": "stream",
          "text": [
            "<start> the person is <unk> skiing through the mountains . <end> "
          ],
          "name": "stdout"
        }
      ]
    },
    {
      "cell_type": "code",
      "metadata": {
        "id": "ypGL6bd3KL5j",
        "colab": {
          "base_uri": "https://localhost:8080/",
          "height": 320
        },
        "outputId": "2e5bdb2d-b595-4335-e620-18ded90a4101"
      },
      "source": [
        "# 모든 word 와 head 의 평균 attention.\n",
        "\n",
        "attention = attentionMap.mean(0).mean(0)\n",
        "fig = plt.figure(figsize=(5, 5))\n",
        "\n",
        "ax = fig.add_subplot(1, 1, 1)\n",
        "ax.pcolor(attention, cmap=plt.cm.Greys_r, vmin=0.0, vmax=1.0)\n",
        "\n",
        "ax.patch.set_facecolor('black')\n",
        "ax.set_yticks(np.arange(attention.shape[0])+0.5, minor=False)\n",
        "ax.set_xticks(np.arange(attention.shape[1])+0.5, minor=False)\n",
        "ax.invert_yaxis()\n",
        "ax.set_xticklabels(range(14), minor=False)\n",
        "ax.set_yticklabels(range(14), minor=False)\n",
        "\n",
        "plt.show()"
      ],
      "execution_count": 571,
      "outputs": [
        {
          "output_type": "display_data",
          "data": {
            "image/png": "[encoded data removed]",
            "text/plain": [
              "<Figure size 360x360 with 1 Axes>"
            ]
          },
          "metadata": {
            "tags": [],
            "needs_background": "light"
          }
        }
      ]
    },
    {
      "cell_type": "code",
      "metadata": {
        "colab": {
          "base_uri": "https://localhost:8080/",
          "height": 1000
        },
        "id": "PQmJPjn9dQmd",
        "outputId": "738d4285-0b68-489e-9a81-5660150f687d"
      },
      "source": [
        "# caption 및 head 마다의 attention.\n",
        "\n",
        "for i, idx in enumerate(sample.squeeze()):\n",
        "  if vocab.idx2word[idx.item()] == '<pad>':\n",
        "    break\n",
        "  print(vocab.idx2word[idx.item()])\n",
        "\n",
        "  fig = plt.figure(figsize=(10, 10))\n",
        "  for j in range(nhead):\n",
        "    attention = attentionMap[i][j]\n",
        "\n",
        "    ax = fig.add_subplot(nhead, nhead, j+1)\n",
        "    ax.pcolor(attention, cmap=plt.cm.Greys_r, vmin=0.0, vmax=1.0)\n",
        "\n",
        "    ax.patch.set_facecolor('black')\n",
        "    ax.set_yticks(np.arange(attention.shape[0])+0.5, minor=False)\n",
        "    ax.set_xticks(np.arange(attention.shape[1])+0.5, minor=False)\n",
        "    ax.invert_yaxis()\n",
        "    ax.set_xticklabels(range(14), minor=False)\n",
        "    ax.set_yticklabels(range(14), minor=False)\n",
        "    ax.axis('off')\n",
        "\n",
        "  plt.show()"
      ],
      "execution_count": 572,
      "outputs": [
        {
          "output_type": "stream",
          "text": [
            "<start>\n"
          ],
          "name": "stdout"
        },
        {
          "output_type": "display_data",
          "data": {
            "image/png": "[encoded data removed]",
            "text/plain": [
              "<Figure size 720x720 with 4 Axes>"
            ]
          },
          "metadata": {
            "tags": [],
            "needs_background": "light"
          }
        },
        {
          "output_type": "stream",
          "text": [
            "the\n"
          ],
          "name": "stdout"
        },
        {
          "output_type": "display_data",
          "data": {
            "image/png": "[encoded data removed]",
            "text/plain": [
              "<Figure size 720x720 with 4 Axes>"
            ]
          },
          "metadata": {
            "tags": [],
            "needs_background": "light"
          }
        },
        {
          "output_type": "stream",
          "text": [
            "person\n"
          ],
          "name": "stdout"
        },
        {
          "output_type": "display_data",
          "data": {
            "image/png": "[encoded data removed]",
            "text/plain": [
              "<Figure size 720x720 with 4 Axes>"
            ]
          },
          "metadata": {
            "tags": [],
            "needs_background": "light"
          }
        },
        {
          "output_type": "stream",
          "text": [
            "is\n"
          ],
          "name": "stdout"
        },
        {
          "output_type": "display_data",
          "data": {
            "image/png": "[encoded data removed]",
            "text/plain": [
              "<Figure size 720x720 with 4 Axes>"
            ]
          },
          "metadata": {
            "tags": [],
            "needs_background": "light"
          }
        },
        {
          "output_type": "stream",
          "text": [
            "<unk>\n"
          ],
          "name": "stdout"
        },
        {
          "output_type": "display_data",
          "data": {
            "image/png": "[encoded data removed]",
            "text/plain": [
              "<Figure size 720x720 with 4 Axes>"
            ]
          },
          "metadata": {
            "tags": [],
            "needs_background": "light"
          }
        },
        {
          "output_type": "stream",
          "text": [
            "skiing\n"
          ],
          "name": "stdout"
        },
        {
          "output_type": "display_data",
          "data": {
            "image/png": "[encoded data removed]",
            "text/plain": [
              "<Figure size 720x720 with 4 Axes>"
            ]
          },
          "metadata": {
            "tags": [],
            "needs_background": "light"
          }
        },
        {
          "output_type": "stream",
          "text": [
            "through\n"
          ],
          "name": "stdout"
        },
        {
          "output_type": "display_data",
          "data": {
            "image/png": "[encoded data removed]",
            "text/plain": [
              "<Figure size 720x720 with 4 Axes>"
            ]
          },
          "metadata": {
            "tags": [],
            "needs_background": "light"
          }
        },
        {
          "output_type": "stream",
          "text": [
            "the\n"
          ],
          "name": "stdout"
        },
        {
          "output_type": "display_data",
          "data": {
            "image/png": "[encoded data removed]",
            "text/plain": [
              "<Figure size 720x720 with 4 Axes>"
            ]
          },
          "metadata": {
            "tags": [],
            "needs_background": "light"
          }
        },
        {
          "output_type": "stream",
          "text": [
            "mountains\n"
          ],
          "name": "stdout"
        },
        {
          "output_type": "display_data",
          "data": {
            "image/png": "[encoded data removed]",
            "text/plain": [
              "<Figure size 720x720 with 4 Axes>"
            ]
          },
          "metadata": {
            "tags": [],
            "needs_background": "light"
          }
        },
        {
          "output_type": "stream",
          "text": [
            ".\n"
          ],
          "name": "stdout"
        },
        {
          "output_type": "display_data",
          "data": {
            "image/png": "[encoded data removed]",
            "text/plain": [
              "<Figure size 720x720 with 4 Axes>"
            ]
          },
          "metadata": {
            "tags": [],
            "needs_background": "light"
          }
        },
        {
          "output_type": "stream",
          "text": [
            "<end>\n"
          ],
          "name": "stdout"
        },
        {
          "output_type": "display_data",
          "data": {
            "image/png": "[encoded data removed]",
            "text/plain": [
              "<Figure size 720x720 with 4 Axes>"
            ]
          },
          "metadata": {
            "tags": [],
            "needs_background": "light"
          }
        }
      ]
    }
  ]
}